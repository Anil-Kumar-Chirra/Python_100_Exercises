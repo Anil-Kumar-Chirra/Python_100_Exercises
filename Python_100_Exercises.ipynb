{
  "nbformat": 4,
  "nbformat_minor": 0,
  "metadata": {
    "colab": {
      "provenance": [],
      "authorship_tag": "ABX9TyM93XlhNVCY1yVwAoAe1SNl",
      "include_colab_link": true
    },
    "kernelspec": {
      "name": "python3",
      "display_name": "Python 3"
    },
    "language_info": {
      "name": "python"
    }
  },
  "cells": [
    {
      "cell_type": "markdown",
      "metadata": {
        "id": "view-in-github",
        "colab_type": "text"
      },
      "source": [
        "<a href=\"https://colab.research.google.com/github/Anil-Kumar-Chirra/Python_100_Exercises/blob/main/Python_100_Exercises.ipynb\" target=\"_parent\"><img src=\"https://colab.research.google.com/assets/colab-badge.svg\" alt=\"Open In Colab\"/></a>"
      ]
    },
    {
      "cell_type": "markdown",
      "source": [
        "# Beginner (Basics of Classes & Objects)\n",
        "### 1. Create a class Car with attributes like brand, model, and year.\n"
      ],
      "metadata": {
        "id": "UPgOC2ppt9ob"
      }
    },
    {
      "cell_type": "code",
      "source": [
        "class Car:\n",
        "  '''1. Create a class Car with attributes like brand, model, and year. '''\n",
        "  def __init__(self, brand, model, year):\n",
        "    self.brand = brand\n",
        "    self.model = model\n",
        "    self.year = year\n",
        "  #2. Create a method in Car class to print all details\n",
        "  def about(self):\n",
        "    print(f\"Car's brand is {self.brand} & model is {self.model} & year is {self.year}\")\n",
        "\n",
        "car1=Car(\"Tata\", \"Harrier\", 2025)\n",
        "car1.about()"
      ],
      "metadata": {
        "colab": {
          "base_uri": "https://localhost:8080/"
        },
        "id": "a3pUzBkCuSqC",
        "outputId": "47d636d9-5064-435f-8b7e-d8e817201f39"
      },
      "execution_count": 3,
      "outputs": [
        {
          "output_type": "stream",
          "name": "stdout",
          "text": [
            "Car's brand is Tata & model is Harrier & year is 2025\n"
          ]
        }
      ]
    },
    {
      "cell_type": "code",
      "source": [
        "#3. Write a class Calculator with methods add,sub,mul and divide\n",
        "class Calculator:\n",
        "  def sum(self, a, b):\n",
        "    return a+b\n",
        "  def sub(self, a, b):\n",
        "    return a-b\n",
        "  def mul(self, a, b):\n",
        "    return a*b\n",
        "  def div(self, a, b):\n",
        "    return a/b\n",
        "\n",
        "cal = Calculator()\n",
        "print(cal.sum(10, 20))\n",
        "print(cal.sub(10, 20))\n",
        "print(cal.mul(10, 20))\n",
        "print(cal.div(10, 20))"
      ],
      "metadata": {
        "colab": {
          "base_uri": "https://localhost:8080/"
        },
        "id": "GuhsUm4ovIHc",
        "outputId": "30566c1d-d035-41fe-f15c-2cb9e7a1c793"
      },
      "execution_count": 5,
      "outputs": [
        {
          "output_type": "stream",
          "name": "stdout",
          "text": [
            "30\n",
            "-10\n",
            "200\n",
            "0.5\n"
          ]
        }
      ]
    },
    {
      "cell_type": "code",
      "source": [
        "#4. Wirte a class Person with name and age, and a method is_adult()(18+)\n",
        "class Person:\n",
        "  def __init__(self, name, age):\n",
        "    self.name = name\n",
        "    self.age = age\n",
        "  def is_adult(self):\n",
        "    if self.age >=18:\n",
        "      print(f\"{self.name} is an adult person\")\n",
        "    else:\n",
        "      print(f\"{self.name} is not an adult person\")\n",
        "\n",
        "person1 = Person(\"anil\", 24)\n",
        "person1.is_adult()"
      ],
      "metadata": {
        "colab": {
          "base_uri": "https://localhost:8080/"
        },
        "id": "SVi5RcgNxDMy",
        "outputId": "766e4977-a150-45dc-fef0-76e2486de397"
      },
      "execution_count": 6,
      "outputs": [
        {
          "output_type": "stream",
          "name": "stdout",
          "text": [
            "Enter your name: anil\n",
            "Enter your age: 34\n",
            "anil is an adult person\n"
          ]
        }
      ]
    },
    {
      "cell_type": "code",
      "source": [
        "#5. Create a class Rectangle with length and breadth and method area().\n",
        "class Rectangle:\n",
        "  def __init__(self, length, breadth):\n",
        "    self.length = length\n",
        "    self.breadth = breadth\n",
        "  def area(self):\n",
        "    return self.length*self.breadth\n",
        "  #6. Add a method perimeter() to Rectangle class.\n",
        "  def perimeter(self):\n",
        "    return 2*(self.length+self.breadth)\n",
        "\n",
        "rect1 = Rectangle(10, 20)\n",
        "print(rect1.area())\n",
        "print(rect1.perimeter())"
      ],
      "metadata": {
        "colab": {
          "base_uri": "https://localhost:8080/"
        },
        "id": "44a1S7A5yCSe",
        "outputId": "4ded5da9-896c-447b-e806-76528e29c59f"
      },
      "execution_count": 10,
      "outputs": [
        {
          "output_type": "stream",
          "name": "stdout",
          "text": [
            "200\n",
            "60\n"
          ]
        }
      ]
    },
    {
      "cell_type": "code",
      "source": [
        "#7. Create a class Student and initialize name and roll number using __init__().\n",
        "class Student:\n",
        "  def __init__(self, name, roll_no):\n",
        "    self.name = name\n",
        "    self.roll_no = roll_no\n",
        "\n",
        "#8. Create 5 objects of Student with different names and roll numbers.\n",
        "stud1 = Student(\"anil\", 1)\n",
        "stud2 = Student(\"sunil\", 2)\n",
        "stud3 = Student(\"Hemasai\", 3)\n",
        "stud4 = Student(\"Hari\", 4)\n",
        "stud5 = Student(\"Sudheer\", 5)\n"
      ],
      "metadata": {
        "id": "Pj-umn-2ykMZ"
      },
      "execution_count": 11,
      "outputs": []
    },
    {
      "cell_type": "code",
      "source": [
        "#9. Write a class Circle and compute its area and circumference.\n",
        "class Circle:\n",
        "  def __init__(self, radius):\n",
        "    self.radius = radius\n",
        "  def area(self):\n",
        "    return 3.14*self.radius*self.radius\n",
        "  def circumference(self):\n",
        "    return 2*3.14*self.radius\n",
        "\n",
        "circle1 = Circle(10)\n",
        "print(circle1.area())\n",
        "print(circle1.circumference())"
      ],
      "metadata": {
        "colab": {
          "base_uri": "https://localhost:8080/"
        },
        "id": "AnMbfgcO1Mqn",
        "outputId": "433dc489-cf5f-4ec5-9295-3f986f7152cf"
      },
      "execution_count": 12,
      "outputs": [
        {
          "output_type": "stream",
          "name": "stdout",
          "text": [
            "314.0\n",
            "62.800000000000004\n"
          ]
        }
      ]
    },
    {
      "cell_type": "code",
      "source": [
        "#10. Write a class Book that stores title,author,price\n",
        "class Book:\n",
        "  def __init__(self, title, author, price):\n",
        "    self.title = title\n",
        "    self.author = author\n",
        "    self.price = price\n",
        "  #11. Create a method discount_price() that returns 90% of the price.\n",
        "  def discount_price(self):\n",
        "    return self.price-0.9*self.price\n",
        "\n",
        "book = Book(\"Life After 22\", \"Anil\", 345)\n",
        "print(book.price)\n",
        "print(book.discount_price())"
      ],
      "metadata": {
        "colab": {
          "base_uri": "https://localhost:8080/"
        },
        "id": "qrDQgS_58PnR",
        "outputId": "f72653f1-3762-4d36-b43a-1a0c5d74e90e"
      },
      "execution_count": 13,
      "outputs": [
        {
          "output_type": "stream",
          "name": "stdout",
          "text": [
            "345\n",
            "34.5\n"
          ]
        }
      ]
    },
    {
      "cell_type": "code",
      "source": [
        "#12. Create a class BankAccount with deposit() and withdraw() methods.\n",
        "class BankAccount:\n",
        "  def __init__(self,balance):\n",
        "    self.balance = balance\n",
        "  def deposit(self, amount):\n",
        "    self.blanace = self.balance+amount\n",
        "    return self.balance\n",
        "  def withdraw(self, amount):\n",
        "    self.balance = self.balance-amount\n",
        "    return self.balance\n",
        "\n",
        "bank = BankAccount(1000)\n",
        "print(bank.deposit(1000))\n",
        "print(bank.withdraw(500))"
      ],
      "metadata": {
        "colab": {
          "base_uri": "https://localhost:8080/"
        },
        "id": "WzVJggSJIS4s",
        "outputId": "092cb009-b6e0-44e6-9f41-504c7bebbe0b"
      },
      "execution_count": 14,
      "outputs": [
        {
          "output_type": "stream",
          "name": "stdout",
          "text": [
            "1000\n",
            "500\n"
          ]
        }
      ]
    },
    {
      "cell_type": "code",
      "source": [
        "#13. Write a class TemperatureConverter to convert Celsius to Fahrenheit.\n",
        "class TemperatureConverter:\n",
        "  def __init__(self, temp):\n",
        "    self.temp = temp\n",
        "  def convertToFah(self):\n",
        "    return (self.temp*9/5)+32\n",
        "  def convertToCel(self):\n",
        "    return (self.temp-32)*5/9\n",
        "\n",
        "temp = TemperatureConverter(1)\n",
        "print(temp.convertToFah())\n",
        "print(temp.convertToCel())"
      ],
      "metadata": {
        "colab": {
          "base_uri": "https://localhost:8080/"
        },
        "id": "1IVbG2oIIwSR",
        "outputId": "acf1de75-7e5f-45b2-8878-33af431403d8"
      },
      "execution_count": 17,
      "outputs": [
        {
          "output_type": "stream",
          "name": "stdout",
          "text": [
            "33.8\n",
            "-17.22222222222222\n"
          ]
        }
      ]
    },
    {
      "cell_type": "code",
      "source": [
        "#14. Create a class Time with hours and minutes. Add method to display time.\n",
        "class Time:\n",
        "  def __init__(self,hours,min,sec):\n",
        "    self.hours=hours\n",
        "    self.min=min\n",
        "    self.sec=sec\n",
        "  def displayTime(self):\n",
        "    return f\"Time: {self.hours}:{self.min}:{self.sec}\"\n",
        "meeting1=Time(9,30,00)\n",
        "meeting1.displayTime()"
      ],
      "metadata": {
        "colab": {
          "base_uri": "https://localhost:8080/",
          "height": 35
        },
        "id": "senI9JHIKhpA",
        "outputId": "15a200a5-04bb-49eb-ef24-ea8933d3ba13"
      },
      "execution_count": 18,
      "outputs": [
        {
          "output_type": "execute_result",
          "data": {
            "text/plain": [
              "'Time: 9:30:0'"
            ],
            "application/vnd.google.colaboratory.intrinsic+json": {
              "type": "string"
            }
          },
          "metadata": {},
          "execution_count": 18
        }
      ]
    },
    {
      "cell_type": "code",
      "source": [
        "#15. Create a class Dog with a method bark(), and name as a property.\n",
        "class Dog:\n",
        "  def __init__(self,name):\n",
        "    self.name=name\n",
        "  @property\n",
        "  def name(self):\n",
        "    return self.name\n",
        "\n",
        "#diff b/w instance attribute vs property: you have control on property like during accesing and modifying.\n"
      ],
      "metadata": {
        "id": "KT3-2zDDMX0W"
      },
      "execution_count": null,
      "outputs": []
    },
    {
      "cell_type": "code",
      "source": [],
      "metadata": {
        "id": "AoylQI7QMyy6"
      },
      "execution_count": null,
      "outputs": []
    }
  ]
}